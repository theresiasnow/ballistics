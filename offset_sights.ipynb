{
 "cells": [
  {
   "metadata": {},
   "cell_type": "markdown",
   "source": "Offset sight ballistics\n",
   "id": "432bda01e0e86376"
  },
  {
   "cell_type": "code",
   "id": "initial_id",
   "metadata": {
    "collapsed": true,
    "ExecuteTime": {
     "end_time": "2025-07-06T14:20:49.889729Z",
     "start_time": "2025-07-06T14:20:49.804067Z"
    }
   },
   "source": [
    "import numpy as np\n",
    "import pandas as pd\n",
    "\n",
    "# Load the autoreload extension\n",
    "%load_ext autoreload\n",
    "\n",
    "# Set autoreload mode\n",
    "%autoreload 2\n",
    "#%reload_ext autoreload\n",
    "from util import read_parameters_from_file\n",
    "import ballistics as b\n",
    "import util as util\n"
   ],
   "outputs": [
    {
     "name": "stdout",
     "output_type": "stream",
     "text": [
      "The autoreload extension is already loaded. To reload it, use:\n",
      "  %reload_ext autoreload\n"
     ]
    }
   ],
   "execution_count": 11
  },
  {
   "metadata": {
    "ExecuteTime": {
     "end_time": "2025-07-06T14:20:49.964317Z",
     "start_time": "2025-07-06T14:20:49.920469Z"
    }
   },
   "cell_type": "code",
   "source": [
    "shooting_angle = 0 # degrees\n",
    "\n",
    "# Offset sight\n",
    "offset_hob=55 / 1000 # m\n",
    "offset_d_zero=36 # m\n",
    "offset_mrad_per_click = 0.13"
   ],
   "id": "38f4dff44aa62981",
   "outputs": [],
   "execution_count": 12
  },
  {
   "metadata": {
    "ExecuteTime": {
     "end_time": "2025-07-06T14:20:50.027087Z",
     "start_time": "2025-07-06T14:20:49.978511Z"
    }
   },
   "cell_type": "code",
   "source": [
    "# Define bullet parameters\n",
    "try:\n",
    "    params = read_parameters_from_file()\n",
    "    barrel_angle = params.barrel_angle\n",
    "    v0 = params.initial_velocity\n",
    "    drag_coefficient_g1 = params.drag_coefficient\n",
    "    h = params.height\n",
    "    bullet_mass = params.bullet_mass\n",
    "    bullet_area = params.bullet_cross_sectional_area\n",
    "    temp = params.temperature\n",
    "    pressure = params.pressure\n",
    "    humidity = params.humidity\n",
    "except AttributeError as e:\n",
    "    print(f\"An error occurred while reading parameters: {e}\")\n",
    "    # Handle the error (e.g., use default values or terminate the program)\n",
    "    exit(1)\n",
    "\n",
    "air_density = b.calculate_air_density(temp, pressure, humidity)\n",
    "util.set_air_density(air_density)\n",
    "bullet_weight = bullet_mass"
   ],
   "id": "732e2d5dc8983328",
   "outputs": [
    {
     "name": "stdout",
     "output_type": "stream",
     "text": [
      "Loaded parameters\n"
     ]
    }
   ],
   "execution_count": 13
  },
  {
   "metadata": {
    "ExecuteTime": {
     "end_time": "2025-07-06T14:20:50.137287Z",
     "start_time": "2025-07-06T14:20:50.048582Z"
    }
   },
   "cell_type": "code",
   "source": [
    "offset_distances = np.arange(0, 100 + 12, 12)\n",
    "offset_tbr_distances = b.calculate_true_ballistic_ranges(offset_distances, shooting_angle) # adjusted for shooting angle\n",
    "\n",
    "offset_barrel_angle = b.calibrate_zero(v0, offset_d_zero, drag_coefficient_g1, bullet_weight, bullet_area, offset_hob)\n",
    "\n",
    "offset_velocities = b.calculate_velocities(v0, drag_coefficient_g1, bullet_weight, bullet_area, offset_tbr_distances, offset_barrel_angle)\n",
    "\n",
    "offset_pois = np.array(b.calculate_pois(v0, drag_coefficient_g1, bullet_weight, bullet_area, offset_hob, offset_barrel_angle, offset_tbr_distances))\n",
    "\n",
    "offset_pois_mrad = np.array(b.calculate_mrads(offset_tbr_distances, offset_pois))\n",
    "\n",
    "offset_clicks = np.round(np.array(list(map(lambda x: x / offset_mrad_per_click, offset_pois_mrad[offset_distances <= 100])))).astype(int)\n",
    "\n",
    "do = {'drop (m)': offset_pois[offset_distances <= 100].round(2), 'mrads': offset_pois_mrad[offset_distances <= 100].round(2),\n",
    "      'clicks (h)': offset_clicks}\n",
    "dfo = pd.DataFrame(data=do, index=offset_distances[offset_distances <= 100])\n",
    "styled_dfo = dfo.style.set_caption(\"Offset sight ballistics\")\n",
    "display(styled_dfo)\n"
   ],
   "id": "c1662bd5caf2a024",
   "outputs": [
    {
     "name": "stdout",
     "output_type": "stream",
     "text": [
      "Calibrating zero...\n",
      "Calibration complete. Barrel angle: 0.000210149935711733\n"
     ]
    },
    {
     "data": {
      "text/plain": [
       "<pandas.io.formats.style.Styler at 0x23c34647b10>"
      ],
      "text/html": [
       "<style type=\"text/css\">\n",
       "</style>\n",
       "<table id=\"T_5082e\">\n",
       "  <caption>Offset sight ballistics</caption>\n",
       "  <thead>\n",
       "    <tr>\n",
       "      <th class=\"blank level0\" >&nbsp;</th>\n",
       "      <th id=\"T_5082e_level0_col0\" class=\"col_heading level0 col0\" >drop (m)</th>\n",
       "      <th id=\"T_5082e_level0_col1\" class=\"col_heading level0 col1\" >mrads</th>\n",
       "      <th id=\"T_5082e_level0_col2\" class=\"col_heading level0 col2\" >clicks (h)</th>\n",
       "    </tr>\n",
       "  </thead>\n",
       "  <tbody>\n",
       "    <tr>\n",
       "      <th id=\"T_5082e_level0_row0\" class=\"row_heading level0 row0\" >0</th>\n",
       "      <td id=\"T_5082e_row0_col0\" class=\"data row0 col0\" >nan</td>\n",
       "      <td id=\"T_5082e_row0_col1\" class=\"data row0 col1\" >0.000000</td>\n",
       "      <td id=\"T_5082e_row0_col2\" class=\"data row0 col2\" >0</td>\n",
       "    </tr>\n",
       "    <tr>\n",
       "      <th id=\"T_5082e_level0_row1\" class=\"row_heading level0 row1\" >12</th>\n",
       "      <td id=\"T_5082e_row1_col0\" class=\"data row1 col0\" >0.000000</td>\n",
       "      <td id=\"T_5082e_row1_col1\" class=\"data row1 col1\" >-0.140000</td>\n",
       "      <td id=\"T_5082e_row1_col2\" class=\"data row1 col2\" >-1</td>\n",
       "    </tr>\n",
       "    <tr>\n",
       "      <th id=\"T_5082e_level0_row2\" class=\"row_heading level0 row2\" >24</th>\n",
       "      <td id=\"T_5082e_row2_col0\" class=\"data row2 col0\" >0.000000</td>\n",
       "      <td id=\"T_5082e_row2_col1\" class=\"data row2 col1\" >-0.070000</td>\n",
       "      <td id=\"T_5082e_row2_col2\" class=\"data row2 col2\" >-1</td>\n",
       "    </tr>\n",
       "    <tr>\n",
       "      <th id=\"T_5082e_level0_row3\" class=\"row_heading level0 row3\" >36</th>\n",
       "      <td id=\"T_5082e_row3_col0\" class=\"data row3 col0\" >0.000000</td>\n",
       "      <td id=\"T_5082e_row3_col1\" class=\"data row3 col1\" >-0.000000</td>\n",
       "      <td id=\"T_5082e_row3_col2\" class=\"data row3 col2\" >0</td>\n",
       "    </tr>\n",
       "    <tr>\n",
       "      <th id=\"T_5082e_level0_row4\" class=\"row_heading level0 row4\" >48</th>\n",
       "      <td id=\"T_5082e_row4_col0\" class=\"data row4 col0\" >-0.000000</td>\n",
       "      <td id=\"T_5082e_row4_col1\" class=\"data row4 col1\" >0.070000</td>\n",
       "      <td id=\"T_5082e_row4_col2\" class=\"data row4 col2\" >1</td>\n",
       "    </tr>\n",
       "    <tr>\n",
       "      <th id=\"T_5082e_level0_row5\" class=\"row_heading level0 row5\" >60</th>\n",
       "      <td id=\"T_5082e_row5_col0\" class=\"data row5 col0\" >-0.010000</td>\n",
       "      <td id=\"T_5082e_row5_col1\" class=\"data row5 col1\" >0.140000</td>\n",
       "      <td id=\"T_5082e_row5_col2\" class=\"data row5 col2\" >1</td>\n",
       "    </tr>\n",
       "    <tr>\n",
       "      <th id=\"T_5082e_level0_row6\" class=\"row_heading level0 row6\" >72</th>\n",
       "      <td id=\"T_5082e_row6_col0\" class=\"data row6 col0\" >-0.010000</td>\n",
       "      <td id=\"T_5082e_row6_col1\" class=\"data row6 col1\" >0.200000</td>\n",
       "      <td id=\"T_5082e_row6_col2\" class=\"data row6 col2\" >2</td>\n",
       "    </tr>\n",
       "    <tr>\n",
       "      <th id=\"T_5082e_level0_row7\" class=\"row_heading level0 row7\" >84</th>\n",
       "      <td id=\"T_5082e_row7_col0\" class=\"data row7 col0\" >-0.020000</td>\n",
       "      <td id=\"T_5082e_row7_col1\" class=\"data row7 col1\" >0.270000</td>\n",
       "      <td id=\"T_5082e_row7_col2\" class=\"data row7 col2\" >2</td>\n",
       "    </tr>\n",
       "    <tr>\n",
       "      <th id=\"T_5082e_level0_row8\" class=\"row_heading level0 row8\" >96</th>\n",
       "      <td id=\"T_5082e_row8_col0\" class=\"data row8 col0\" >-0.030000</td>\n",
       "      <td id=\"T_5082e_row8_col1\" class=\"data row8 col1\" >0.340000</td>\n",
       "      <td id=\"T_5082e_row8_col2\" class=\"data row8 col2\" >3</td>\n",
       "    </tr>\n",
       "  </tbody>\n",
       "</table>\n"
      ]
     },
     "metadata": {},
     "output_type": "display_data"
    }
   ],
   "execution_count": 14
  }
 ],
 "metadata": {
  "kernelspec": {
   "display_name": "Python 3",
   "language": "python",
   "name": "python3"
  },
  "language_info": {
   "codemirror_mode": {
    "name": "ipython",
    "version": 2
   },
   "file_extension": ".py",
   "mimetype": "text/x-python",
   "name": "python",
   "nbconvert_exporter": "python",
   "pygments_lexer": "ipython2",
   "version": "2.7.6"
  }
 },
 "nbformat": 4,
 "nbformat_minor": 5
}
