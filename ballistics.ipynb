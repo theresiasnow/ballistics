{
 "cells": [
  {
   "metadata": {},
   "cell_type": "markdown",
   "source": "",
   "id": "54390679b198275f"
  },
  {
   "metadata": {},
   "cell_type": "markdown",
   "source": "# Ballistics",
   "id": "8a77807f92f26ee"
  },
  {
   "metadata": {
    "ExecuteTime": {
     "end_time": "2024-10-15T19:32:03.318007Z",
     "start_time": "2024-10-15T19:32:03.313611Z"
    }
   },
   "cell_type": "code",
   "source": [
    "from math import pi, atan\n",
    "import matplotlib.pyplot as plt\n",
    "import numpy as np\n",
    "from scipy.optimize import fsolve\n",
    "import pandas as pd\n",
    "from scipy.integrate import solve_ivp"
   ],
   "id": "6beff32169f9145c",
   "outputs": [],
   "execution_count": 20
  },
  {
   "metadata": {
    "ExecuteTime": {
     "end_time": "2024-10-15T19:32:03.359775Z",
     "start_time": "2024-10-15T19:32:03.354077Z"
    }
   },
   "cell_type": "code",
   "source": [
    "mrad_per_click = 0.10\n",
    "v0 = 950 # m/s\n",
    "bc = 0.275\n",
    "bullet_weight = 55 * 0.00006479891  # kg\n",
    "bullet_diameter = 0.224 * 0.0254   # m\n",
    "bullet_area = pi * (bullet_diameter / 2) ** 2  # m2\n",
    "h = 70 / 1000 # m\n",
    "d_zero = 100 # m\n",
    "d_min = 0 # m\n",
    "d_max = 325 # m\n",
    "g = 9.82\n",
    "air_density = 1.225  # Air density (kg/m³) at sea level"
   ],
   "id": "fbc121e30a2defb3",
   "outputs": [],
   "execution_count": 21
  },
  {
   "metadata": {
    "ExecuteTime": {
     "end_time": "2024-10-15T19:32:03.402036Z",
     "start_time": "2024-10-15T19:32:03.398037Z"
    }
   },
   "cell_type": "code",
   "source": [
    "# Correct drag coefficient calculation to handle unit consistency\n",
    "# Convert BC from imperial to metric:\n",
    "def convert_bc_to_metric(bc):\n",
    "    inch_to_meter = 0.0254  # Conversion factor from inches to meters\n",
    "    bc_metric = bc / inch_to_meter**2  # Adjust BC for metric units\n",
    "    return bc_metric\n"
   ],
   "id": "f16598b2e3f8afe5",
   "outputs": [],
   "execution_count": 22
  },
  {
   "metadata": {
    "ExecuteTime": {
     "end_time": "2024-10-15T19:32:03.417319Z",
     "start_time": "2024-10-15T19:32:03.412797Z"
    }
   },
   "cell_type": "code",
   "source": [
    "def velocityT(t, bc):\n",
    "    return v0 * np.exp(-t / bc)"
   ],
   "id": "81fa4daf0c5dd7db",
   "outputs": [],
   "execution_count": 23
  },
  {
   "metadata": {
    "ExecuteTime": {
     "end_time": "2024-10-15T19:32:03.461776Z",
     "start_time": "2024-10-15T19:32:03.457430Z"
    }
   },
   "cell_type": "code",
   "source": [
    "def drag_coefficient(bc, m, A): # G1 model for bc\n",
    "    return m / (bc * A)"
   ],
   "id": "56c0cce2e4abf456",
   "outputs": [],
   "execution_count": 24
  },
  {
   "metadata": {
    "ExecuteTime": {
     "end_time": "2024-10-15T19:32:03.480193Z",
     "start_time": "2024-10-15T19:32:03.475847Z"
    }
   },
   "cell_type": "code",
   "source": [
    "def dragF(dragC, v, A):\n",
    "    return 0.5 * dragC * air_density * v**2 * A"
   ],
   "id": "95390b3cf730cbb2",
   "outputs": [],
   "execution_count": 25
  },
  {
   "metadata": {
    "ExecuteTime": {
     "end_time": "2024-10-15T19:32:03.500805Z",
     "start_time": "2024-10-15T19:32:03.496794Z"
    }
   },
   "cell_type": "code",
   "source": [
    "def velocityD(v0, dragC, A, d, m):\n",
    "    return v0 * np.exp(- (dragC * air_density * A * d) / (2 * m))"
   ],
   "id": "9f89d15b0fdaf45a",
   "outputs": [],
   "execution_count": 26
  },
  {
   "metadata": {
    "ExecuteTime": {
     "end_time": "2024-10-15T19:32:03.527420Z",
     "start_time": "2024-10-15T19:32:03.523047Z"
    }
   },
   "cell_type": "code",
   "source": [
    "def calculate_barrel_angle(hob, poi, d0):\n",
    "    # hob: height over bore in meters\n",
    "    # poi: point of impact in meters (negative if below the target)\n",
    "    # distance: distance to the target in meters\n",
    "    return atan((hob + poi) / d0)  # Angle in radians\n"
   ],
   "id": "9cd54ba665c4d2e0",
   "outputs": [],
   "execution_count": 27
  },
  {
   "metadata": {
    "ExecuteTime": {
     "end_time": "2024-10-15T19:32:03.547240Z",
     "start_time": "2024-10-15T19:32:03.541858Z"
    }
   },
   "cell_type": "code",
   "source": [
    "# Function to calculate time of flight considering initial velocity and drag\n",
    "def time_of_flight(v0, bc, d):\n",
    "    bc_metric = convert_bc_to_metric(bc)  # Convert BC to metric units\n",
    "    drag = drag_coefficient(bc_metric, bullet_weight, bullet_area)  # Calculate drag coefficient\n",
    "    \n",
    "    # Define a small-time step for integration\n",
    "    dt = 0.001  # time step in seconds\n",
    "    time = 0.0  # initialize time\n",
    "    distance_travelled = 0.0  # initialize distance\n",
    "    # Iterate until the bullet reaches the target distance\n",
    "    while distance_travelled < d:\n",
    "        velocity = velocityD(v0, drag, bullet_area, distance_travelled, bullet_weight)\n",
    "        distance_travelled += velocity * dt\n",
    "        time += dt\n",
    "    return time\n"
   ],
   "id": "deddbbcd3deb8f25",
   "outputs": [],
   "execution_count": 28
  },
  {
   "metadata": {
    "ExecuteTime": {
     "end_time": "2024-10-15T19:32:03.571836Z",
     "start_time": "2024-10-15T19:32:03.567310Z"
    }
   },
   "cell_type": "code",
   "source": [
    "bc_metric = convert_bc_to_metric(bc)\n",
    "drag_coefficient_g1 = drag_coefficient(bc_metric, bullet_weight, bullet_area)\n"
   ],
   "id": "41b97b96299a682a",
   "outputs": [],
   "execution_count": 29
  },
  {
   "metadata": {
    "ExecuteTime": {
     "end_time": "2024-10-15T19:32:03.606117Z",
     "start_time": "2024-10-15T19:32:03.600604Z"
    }
   },
   "cell_type": "code",
   "source": [
    "def calculate_velocities(v0, c_drag, bullet_area, bullet_weight, distances):\n",
    "    velocities = []\n",
    "    for d in distances:\n",
    "        velocities.append(velocityD(v0, c_drag, bullet_area, d, bullet_weight))\n",
    "    return velocities    \n",
    "    "
   ],
   "id": "57a98722bc308c04",
   "outputs": [],
   "execution_count": 30
  },
  {
   "metadata": {
    "ExecuteTime": {
     "end_time": "2024-10-15T19:32:03.640126Z",
     "start_time": "2024-10-15T19:32:03.632732Z"
    }
   },
   "cell_type": "code",
   "source": [
    "def calculate_poi(d_target, c_drag, hob, v0, angle_rad):\n",
    "    t_total = d_target / (v0 * np.cos(angle_rad))  # Time to reach target distance\n",
    "    t_steps = np.linspace(0, t_total, 1000)  # Time steps for numerical integration\n",
    "    x = v0 * np.cos(angle_rad) * t_steps  # Horizontal distance over time\n",
    "    y = hob + v0 * np.sin(angle_rad) * t_steps - 0.5 * g * t_steps ** 2  # Vertical position without drag\n",
    "    \n",
    "    # Update velocity and position with drag\n",
    "    for i in range(1, len(t_steps)):\n",
    "        v_x = v0 * np.cos(angle_rad) * np.exp(- (c_drag * air_density * bullet_area * x[i]) / (2 * bullet_weight))\n",
    "        v_y = v0 * np.sin(angle_rad) * np.exp(- (c_drag * air_density * bullet_area * x[i]) / (2 * bullet_weight))\n",
    "        y[i] = hob + v_y * t_steps[i] - 0.5 * g * t_steps[i]**2  # Update y position with drag\n",
    "        \n",
    "    return y[-1]  # Return the final vertical position at distance\n",
    "\n",
    "\n",
    "def calculate_pois(d0, d_max, step, c_drag, hob, v0, angle):\n",
    "    pois = []\n",
    "    for i in range(d0, d_max + step, step):\n",
    "        pois.append(calculate_poi(i, c_drag, hob, v0, angle))\n",
    "    return pois"
   ],
   "id": "aa5a69d1f52000ac",
   "outputs": [],
   "execution_count": 31
  },
  {
   "metadata": {
    "ExecuteTime": {
     "end_time": "2024-10-15T19:32:03.682146Z",
     "start_time": "2024-10-15T19:32:03.669927Z"
    }
   },
   "cell_type": "code",
   "source": [
    "# Define the bullet trajectory with drag affecting both x and y velocities\n",
    "def bullet_trajectory(t, y, c_drag, bullet_weight):\n",
    "    x, y_pos, v_x, v_y = y\n",
    "    speed = np.sqrt(v_x**2 + v_y**2)  # Total speed\n",
    "    drag_x = -0.5 * c_drag * air_density * bullet_area * speed * v_x / bullet_weight  # Drag force on x\n",
    "    drag_y = -0.5 * c_drag * air_density * bullet_area * speed * v_y / bullet_weight  # Drag force on y\n",
    "\n",
    "    return [v_x, v_y, drag_x, drag_y - g]  # Ret\n",
    "\n",
    "def calculate_poi_with_integration(d_target, c_drag, hob, v0, angle_rad):\n",
    "    if d_target == 0:\n",
    "        # For zero distance, return the initial height above ground level\n",
    "        return np.nan\n",
    "    v_x0 = v0 * np.cos(angle_rad)  # Initial velocity component in the x direction\n",
    "    v_y0 = v0 * np.sin(angle_rad)  # Initial velocity component in the y direction\n",
    "    y0 = [0, hob, v_x0, v_y0]  # Initial conditions: [x0, y0, vx0, vy0]\n",
    "    t_max = d_target / v_x0\n",
    "    # Ensure t_eval is a 1-dimensional array\n",
    "    t_eval = np.linspace(0, t_max, 1000)\n",
    "\n",
    "    # Use adaptive integration (Runge-Kutta method)\n",
    "    #sol = solve_ivp(bullet_trajectory, [0, t_max], y0, args=(c_drag, bullet_weight), t_eval=t_eval)\n",
    "    \n",
    "    sol = solve_ivp(\n",
    "        bullet_trajectory, \n",
    "        [0, t_max], \n",
    "        y0, \n",
    "        args=(c_drag, bullet_weight), \n",
    "        t_eval=t_eval, \n",
    "        method='LSODA',  # More stable for complex problems\n",
    "        rtol=1e-8,       # Relative tolerance for precision\n",
    "        atol=1e-10\n",
    "    )\n",
    "\n",
    "    x = sol.y[0]  # Horizontal positions\n",
    "    y = sol.y[1]  # Vertical positions\n",
    "\n",
    "    return y[-1] - h  # Difference between final y position and initial height\n",
    "\n",
    "def calculate_pois_with_integration(d0, d_max, step, c_drag, hob, v0, angle_rad):\n",
    "    pois = []\n",
    "    for d in range(d0, d_max + step, step):\n",
    "        poi = calculate_poi_with_integration(d, c_drag, hob, v0, angle_rad)\n",
    "        if np.isinf(poi):\n",
    "            print(f\"Warning: Integration failed for distance {d}. POI set to NaN.\")\n",
    "            pois.append(np.nan)\n",
    "        else:\n",
    "            pois.append(poi)\n",
    "    return np.array(pois)"
   ],
   "id": "94d1c561e9a0d4a2",
   "outputs": [],
   "execution_count": 32
  },
  {
   "metadata": {
    "ExecuteTime": {
     "end_time": "2024-10-15T19:32:03.733300Z",
     "start_time": "2024-10-15T19:32:03.728786Z"
    }
   },
   "cell_type": "code",
   "source": [
    "def poi_to_mrad(poi, d):\n",
    "    if d == 0:\n",
    "        return 0\n",
    "    return -(poi / d * 1000.0)\n",
    "\n",
    "def calculate_mrads(distances, pois):\n",
    "    mrads = []\n",
    "    for i in range(len(distances)):\n",
    "        mrads.append(poi_to_mrad(pois[i], distances[i]))\n",
    "    return mrads\n",
    "        "
   ],
   "id": "cb5525d8b690090b",
   "outputs": [],
   "execution_count": 33
  },
  {
   "metadata": {
    "ExecuteTime": {
     "end_time": "2024-10-15T19:32:03.801052Z",
     "start_time": "2024-10-15T19:32:03.776954Z"
    }
   },
   "cell_type": "code",
   "source": [
    "# Target distance\n",
    "d_target = d_zero  # Target distance in meters\n",
    "\n",
    "# Initial guess for the angle\n",
    "angle_guess = 0.\n",
    "# Function to find the angle that makes y(d_target) = 0 (hit the target at height zero)\n",
    "def find_angle(a):\n",
    "    # a is passed as an array, so we extract the scalar value using a[0]\n",
    "    a = a[0]\n",
    "    return calculate_poi_with_integration(d_zero, drag_coefficient_g1, h, v0, a)\n",
    "\n",
    "# Use fsolve to find the correct angle\n",
    "result = fsolve(find_angle, angle_guess)\n",
    "\n",
    "optimal_angle = result[0]\n"
   ],
   "id": "d01cfef1ceaee50a",
   "outputs": [],
   "execution_count": 34
  },
  {
   "metadata": {
    "ExecuteTime": {
     "end_time": "2024-10-15T19:32:03.822345Z",
     "start_time": "2024-10-15T19:32:03.819324Z"
    }
   },
   "cell_type": "code",
   "source": "",
   "id": "f72ca9b1c86d2a89",
   "outputs": [],
   "execution_count": null
  },
  {
   "metadata": {
    "ExecuteTime": {
     "end_time": "2024-10-15T19:32:03.896750Z",
     "start_time": "2024-10-15T19:32:03.866369Z"
    }
   },
   "cell_type": "code",
   "source": [
    "step = 25 # m\n",
    "distances = np.arange(d_min, d_max + step, step) \n",
    "velocities = calculate_velocities(v0, drag_coefficient_g1, bullet_area, bullet_weight, distances)\n",
    "pois = calculate_pois_with_integration(d_min, d_max, step, drag_coefficient_g1, h, v0, optimal_angle)\n",
    "mrads = calculate_mrads(distances, pois)\n"
   ],
   "id": "705bd4140470264a",
   "outputs": [],
   "execution_count": 35
  },
  {
   "metadata": {
    "ExecuteTime": {
     "end_time": "2024-10-15T19:32:04.090641Z",
     "start_time": "2024-10-15T19:32:03.929360Z"
    }
   },
   "cell_type": "code",
   "source": [
    "# Plotting the bullet velocity over distance\n",
    "plt.figure(figsize=(10, 6))\n",
    "plt.plot(distances, velocities, label='Bullet Velocity', color='blue')\n",
    "plt.title(\"Bullet Velocity vs. Distance\")\n",
    "plt.xlabel(\"Distance (m)\")\n",
    "plt.ylabel(\"Velocity (m/s)\")\n",
    "plt.grid(True)\n",
    "plt.legend()\n",
    "plt.show()"
   ],
   "id": "5d25b620b9b3edee",
   "outputs": [
    {
     "data": {
      "text/plain": [
       "<Figure size 1000x600 with 1 Axes>"
      ],
      "image/png": "[encoded data removed]"
     },
     "metadata": {},
     "output_type": "display_data"
    }
   ],
   "execution_count": 36
  },
  {
   "metadata": {
    "ExecuteTime": {
     "end_time": "2024-10-15T19:32:04.260699Z",
     "start_time": "2024-10-15T19:32:04.114563Z"
    }
   },
   "cell_type": "code",
   "source": [
    "# Plotting the bullet drop over distance\n",
    "plt.figure(figsize=(10, 6))\n",
    "plt.plot(distances, pois, label='Bullet drop', color='green')\n",
    "plt.title(\"Bullet drop vs. Distance\")\n",
    "plt.xlabel(\"Distance (m)\")\n",
    "plt.ylabel(\"Drop (m)\")\n",
    "plt.grid(True)\n",
    "plt.legend()\n",
    "plt.show()"
   ],
   "id": "6d3f51f98f0aea95",
   "outputs": [
    {
     "data": {
      "text/plain": [
       "<Figure size 1000x600 with 1 Axes>"
      ],
      "image/png": "[encoded data removed]"
     },
     "metadata": {},
     "output_type": "display_data"
    }
   ],
   "execution_count": 37
  },
  {
   "metadata": {
    "ExecuteTime": {
     "end_time": "2024-10-15T19:32:04.288372Z",
     "start_time": "2024-10-15T19:32:04.274466Z"
    }
   },
   "cell_type": "code",
   "source": [
    "3 # Ballistic tables\n",
    "velocities = np.round(velocities, 0).astype(int)\n",
    "mrads = np.round(mrads, 2)\n",
    "clicks = np.round(np.array(list(map(lambda x: x/mrad_per_click, mrads)))).astype(int)\n",
    "d = {'v (m/s)': velocities, 'drop (m)': pois, 'mrads': mrads, 'clicks': clicks}\n",
    "df = pd.DataFrame(data=d, index=distances)\n",
    "df = df.round({'v': 3, 'drop (m)': 2, 'mrads': 2})\n",
    "display(df)\n"
   ],
   "id": "70875251b7b11b58",
   "outputs": [
    {
     "data": {
      "text/plain": [
       "     v (m/s)  drop (m)  mrads  clicks\n",
       "0        950       NaN   0.00       0\n",
       "25       916      0.01  -0.41      -4\n",
       "50       884      0.01  -0.27      -3\n",
       "75       853      0.01  -0.13      -1\n",
       "100      823     -0.00   0.00       0\n",
       "125      794     -0.02   0.13       1\n",
       "150      766     -0.04   0.26       3\n",
       "175      739     -0.07   0.39       4\n",
       "200      713     -0.10   0.51       5\n",
       "225      688     -0.14   0.63       6\n",
       "250      663     -0.19   0.76       8\n",
       "275      640     -0.24   0.87       9\n",
       "300      617     -0.30   0.99      10\n",
       "325      596     -0.36   1.11      11"
      ],
      "text/html": [
       "<div>\n",
       "<style scoped>\n",
       "    .dataframe tbody tr th:only-of-type {\n",
       "        vertical-align: middle;\n",
       "    }\n",
       "\n",
       "    .dataframe tbody tr th {\n",
       "        vertical-align: top;\n",
       "    }\n",
       "\n",
       "    .dataframe thead th {\n",
       "        text-align: right;\n",
       "    }\n",
       "</style>\n",
       "<table border=\"1\" class=\"dataframe\">\n",
       "  <thead>\n",
       "    <tr style=\"text-align: right;\">\n",
       "      <th></th>\n",
       "      <th>v (m/s)</th>\n",
       "      <th>drop (m)</th>\n",
       "      <th>mrads</th>\n",
       "      <th>clicks</th>\n",
       "    </tr>\n",
       "  </thead>\n",
       "  <tbody>\n",
       "    <tr>\n",
       "      <th>0</th>\n",
       "      <td>950</td>\n",
       "      <td>NaN</td>\n",
       "      <td>0.00</td>\n",
       "      <td>0</td>\n",
       "    </tr>\n",
       "    <tr>\n",
       "      <th>25</th>\n",
       "      <td>916</td>\n",
       "      <td>0.01</td>\n",
       "      <td>-0.41</td>\n",
       "      <td>-4</td>\n",
       "    </tr>\n",
       "    <tr>\n",
       "      <th>50</th>\n",
       "      <td>884</td>\n",
       "      <td>0.01</td>\n",
       "      <td>-0.27</td>\n",
       "      <td>-3</td>\n",
       "    </tr>\n",
       "    <tr>\n",
       "      <th>75</th>\n",
       "      <td>853</td>\n",
       "      <td>0.01</td>\n",
       "      <td>-0.13</td>\n",
       "      <td>-1</td>\n",
       "    </tr>\n",
       "    <tr>\n",
       "      <th>100</th>\n",
       "      <td>823</td>\n",
       "      <td>-0.00</td>\n",
       "      <td>0.00</td>\n",
       "      <td>0</td>\n",
       "    </tr>\n",
       "    <tr>\n",
       "      <th>125</th>\n",
       "      <td>794</td>\n",
       "      <td>-0.02</td>\n",
       "      <td>0.13</td>\n",
       "      <td>1</td>\n",
       "    </tr>\n",
       "    <tr>\n",
       "      <th>150</th>\n",
       "      <td>766</td>\n",
       "      <td>-0.04</td>\n",
       "      <td>0.26</td>\n",
       "      <td>3</td>\n",
       "    </tr>\n",
       "    <tr>\n",
       "      <th>175</th>\n",
       "      <td>739</td>\n",
       "      <td>-0.07</td>\n",
       "      <td>0.39</td>\n",
       "      <td>4</td>\n",
       "    </tr>\n",
       "    <tr>\n",
       "      <th>200</th>\n",
       "      <td>713</td>\n",
       "      <td>-0.10</td>\n",
       "      <td>0.51</td>\n",
       "      <td>5</td>\n",
       "    </tr>\n",
       "    <tr>\n",
       "      <th>225</th>\n",
       "      <td>688</td>\n",
       "      <td>-0.14</td>\n",
       "      <td>0.63</td>\n",
       "      <td>6</td>\n",
       "    </tr>\n",
       "    <tr>\n",
       "      <th>250</th>\n",
       "      <td>663</td>\n",
       "      <td>-0.19</td>\n",
       "      <td>0.76</td>\n",
       "      <td>8</td>\n",
       "    </tr>\n",
       "    <tr>\n",
       "      <th>275</th>\n",
       "      <td>640</td>\n",
       "      <td>-0.24</td>\n",
       "      <td>0.87</td>\n",
       "      <td>9</td>\n",
       "    </tr>\n",
       "    <tr>\n",
       "      <th>300</th>\n",
       "      <td>617</td>\n",
       "      <td>-0.30</td>\n",
       "      <td>0.99</td>\n",
       "      <td>10</td>\n",
       "    </tr>\n",
       "    <tr>\n",
       "      <th>325</th>\n",
       "      <td>596</td>\n",
       "      <td>-0.36</td>\n",
       "      <td>1.11</td>\n",
       "      <td>11</td>\n",
       "    </tr>\n",
       "  </tbody>\n",
       "</table>\n",
       "</div>"
      ]
     },
     "metadata": {},
     "output_type": "display_data"
    }
   ],
   "execution_count": 38
  }
 ],
 "metadata": {
  "kernelspec": {
   "display_name": "Python 3",
   "language": "python",
   "name": "python3"
  },
  "language_info": {
   "codemirror_mode": {
    "name": "ipython",
    "version": 2
   },
   "file_extension": ".py",
   "mimetype": "text/x-python",
   "name": "python",
   "nbconvert_exporter": "python",
   "pygments_lexer": "ipython2",
   "version": "2.7.6"
  }
 },
 "nbformat": 4,
 "nbformat_minor": 5
}
